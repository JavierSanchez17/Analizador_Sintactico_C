{
 "cells": [
  {
   "cell_type": "code",
   "execution_count": 5,
   "metadata": {},
   "outputs": [],
   "source": [
    "import re"
   ]
  },
  {
   "cell_type": "code",
   "execution_count": 6,
   "metadata": {},
   "outputs": [],
   "source": [
    "texto = \"\"\"\n",
    "Alice: 123-123-4567\n",
    "Bob: 333-987-6543\n",
    "Charlie: 777-555-88\n",
    "\"\"\""
   ]
  },
  {
   "cell_type": "code",
   "execution_count": 7,
   "metadata": {},
   "outputs": [
    {
     "data": {
      "text/plain": [
       "['123-123-4567', '333-987-6543']"
      ]
     },
     "execution_count": 7,
     "metadata": {},
     "output_type": "execute_result"
    }
   ],
   "source": [
    "# Patron para reconocer un numero de telefono\n",
    "# formato ###-###-####\n",
    "patron = r\"\\d{3}-\\d{3}-\\d{4}\"\n",
    "coincidencias = re.findall(patron, texto)\n",
    "coincidencias"
   ]
  },
  {
   "cell_type": "code",
   "execution_count": 8,
   "metadata": {},
   "outputs": [
    {
     "data": {
      "text/plain": [
       "[('Alice', '123-123-4567'), ('Bob', '333-987-6543')]"
      ]
     },
     "execution_count": 8,
     "metadata": {},
     "output_type": "execute_result"
    }
   ],
   "source": [
    "patronReg = r\"([A-Za-z]+):\\s(\\d{3}-\\d{3}-\\d{4})\"\n",
    "registro = re.findall(patronReg, texto)\n",
    "registro"
   ]
  },
  {
   "cell_type": "code",
   "execution_count": 9,
   "metadata": {},
   "outputs": [
    {
     "name": "stdout",
     "output_type": "stream",
     "text": [
      "\n",
      "Charlie: 777-555-88\n",
      "\n"
     ]
    }
   ],
   "source": [
    "cadena = re.compile(patronReg)\n",
    "for i in texto.split(\"\\n\"):\n",
    "    if not any([cadena.match(i)]):\n",
    "        print(i)"
   ]
  }
 ],
 "metadata": {
  "kernelspec": {
   "display_name": "Python 3",
   "language": "python",
   "name": "python3"
  },
  "language_info": {
   "codemirror_mode": {
    "name": "ipython",
    "version": 3
   },
   "file_extension": ".py",
   "mimetype": "text/x-python",
   "name": "python",
   "nbconvert_exporter": "python",
   "pygments_lexer": "ipython3",
   "version": "3.12.1"
  }
 },
 "nbformat": 4,
 "nbformat_minor": 2
}
